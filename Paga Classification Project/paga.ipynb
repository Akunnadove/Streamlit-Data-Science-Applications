{
 "cells": [
  {
   "cell_type": "markdown",
   "metadata": {
    "colab_type": "text",
    "id": "view-in-github"
   },
   "source": [
    "<a href=\"https://colab.research.google.com/github/Nwosu-Ihueze/first_deploy/blob/main/base_model.ipynb\" target=\"_parent\"><img src=\"https://colab.research.google.com/assets/colab-badge.svg\" alt=\"Open In Colab\"/></a>"
   ]
  },
  {
   "cell_type": "code",
   "execution_count": 1,
   "metadata": {
    "id": "to73YXqkhYZf"
   },
   "outputs": [],
   "source": [
    "img_dir = ('C:/Users/Akunna Anyamkpa/Downloads/Paga/dataset')"
   ]
  },
  {
   "cell_type": "code",
   "execution_count": 2,
   "metadata": {
    "id": "-jroOgAVhZyx"
   },
   "outputs": [],
   "source": [
    "from keras.models import Sequential\n",
    "from keras.layers import Dense, Conv2D, MaxPool2D , Flatten\n",
    "from keras.preprocessing.image import ImageDataGenerator\n",
    "import keras\n",
    "import numpy as np\n",
    "import tensorflow as tf\n",
    "from tensorflow import keras\n",
    "from tensorflow.keras import layers\n",
    "import tensorflow_hub as hub\n",
    "import matplotlib.pyplot as plt"
   ]
  },
  {
   "cell_type": "code",
   "execution_count": 3,
   "metadata": {
    "id": "FVhNyMrLhkwD"
   },
   "outputs": [],
   "source": [
    "data_args = dict(rescale=1./255, validation_split=.20)"
   ]
  },
  {
   "cell_type": "code",
   "execution_count": 4,
   "metadata": {
    "colab": {
     "base_uri": "https://localhost:8080/"
    },
    "id": "Ev--vHf3ho_5",
    "outputId": "2465cdfe-6e6e-42f9-afc1-9344e5985306"
   },
   "outputs": [
    {
     "name": "stdout",
     "output_type": "stream",
     "text": [
      "Found 43 images belonging to 20 classes.\n",
      "Found 2 images belonging to 20 classes.\n"
     ]
    }
   ],
   "source": [
    "bag_train = tf.keras.preprocessing.image.ImageDataGenerator(**data_args)\n",
    "\n",
    "train_gen = bag_train.flow_from_directory(\n",
    "img_dir,\n",
    "subset=\"training\",\n",
    "shuffle=True,\n",
    "target_size=(224, 224))\n",
    "\n",
    "\n",
    "bag_val = tf.keras.preprocessing.image.ImageDataGenerator(**data_args)\n",
    "\n",
    "val_gen = bag_val.flow_from_directory(\n",
    "img_dir,\n",
    "subset=\"validation\",\n",
    "shuffle=True,\n",
    "target_size=(224, 224))"
   ]
  },
  {
   "cell_type": "code",
   "execution_count": 5,
   "metadata": {
    "id": "5AIK2H4thssQ"
   },
   "outputs": [],
   "source": [
    "for image_batch, label_batch in train_gen:\n",
    "    break\n",
    "    image_batch.shape, label_batch.shape"
   ]
  },
  {
   "cell_type": "code",
   "execution_count": 6,
   "metadata": {
    "colab": {
     "base_uri": "https://localhost:8080/"
    },
    "id": "8rF-sJNxhw0p",
    "outputId": "9873bb89-185f-429f-a8ba-dcbc097d6e95"
   },
   "outputs": [
    {
     "name": "stdout",
     "output_type": "stream",
     "text": [
      "{'Abyssinia termer 1': 0, 'Abyssinia termer 2': 1, 'Abyssinia termer 3': 2, 'Abyssinia termer 4': 3, 'Abyssinia termer 5': 4, 'Burma termer 1': 5, 'Burma termer 2': 6, 'Burma termer 3': 7, 'Burma termer 4': 8, 'Burma termer 5': 9, 'Dalet termer 1': 10, 'Dalet termer 2': 11, 'Dalet termer 3': 12, 'Dalet termer 4': 13, 'Dalet termer 5': 14, 'Mogadishu termer 1': 15, 'Mogadishu termer 2': 16, 'Mogadishu termer 3': 17, 'Mogadishu termer 4': 18, 'Mogadishu termer 5': 19}\n"
     ]
    }
   ],
   "source": [
    "print (train_gen.class_indices)"
   ]
  },
  {
   "cell_type": "code",
   "execution_count": 7,
   "metadata": {
    "colab": {
     "base_uri": "https://localhost:8080/"
    },
    "id": "NFX_UXHOhzqT",
    "outputId": "62b76f1f-d1ac-4754-e612-1191e124374a"
   },
   "outputs": [
    {
     "name": "stdout",
     "output_type": "stream",
     "text": [
      "Model: \"sequential\"\n",
      "_________________________________________________________________\n",
      " Layer (type)                Output Shape              Param #   \n",
      "=================================================================\n",
      " keras_layer (KerasLayer)    (None, 1280)              2257984   \n",
      "                                                                 \n",
      " dropout (Dropout)           (None, 1280)              0         \n",
      "                                                                 \n",
      " dense (Dense)               (None, 20)                25620     \n",
      "                                                                 \n",
      "=================================================================\n",
      "Total params: 2,283,604\n",
      "Trainable params: 25,620\n",
      "Non-trainable params: 2,257,984\n",
      "_________________________________________________________________\n"
     ]
    }
   ],
   "source": [
    "base_model = tf.keras.Sequential([\n",
    " hub.KerasLayer(\"https://tfhub.dev/google/tf2-preview/mobilenet_v2/feature_vector/4\", \n",
    " output_shape=[1280],\n",
    " trainable=False),\n",
    " tf.keras.layers.Dropout(0.4),\n",
    " tf.keras.layers.Dense(train_gen.num_classes, activation='softmax')\n",
    "])\n",
    "base_model.build([None, 224, 224, 3])\n",
    "base_model.summary()"
   ]
  },
  {
   "cell_type": "code",
   "execution_count": 8,
   "metadata": {
    "id": "M13ITqx0h_IG"
   },
   "outputs": [],
   "source": [
    "optimizer = tf.keras.optimizers.Adam(learning_rate=0.005)\n",
    "\n",
    "base_model.compile(\n",
    " optimizer=optimizer,\n",
    " loss= 'categorical_crossentropy',\n",
    " metrics=['accuracy'])"
   ]
  },
  {
   "cell_type": "code",
   "execution_count": 9,
   "metadata": {
    "colab": {
     "base_uri": "https://localhost:8080/"
    },
    "id": "s9EhqPWViCZ0",
    "outputId": "12d672e7-6080-41e6-9586-0f8b91558987"
   },
   "outputs": [
    {
     "name": "stdout",
     "output_type": "stream",
     "text": [
      "Epoch 1/40\n",
      "2/2 [==============================] - 17s 5s/step - loss: 4.2139 - accuracy: 0.0465 - val_loss: 1.7533 - val_accuracy: 0.0000e+00\n",
      "Epoch 2/40\n",
      "2/2 [==============================] - 5s 4s/step - loss: 2.7203 - accuracy: 0.2093 - val_loss: 0.9914 - val_accuracy: 1.0000\n",
      "Epoch 3/40\n",
      "2/2 [==============================] - 5s 4s/step - loss: 1.9531 - accuracy: 0.4884 - val_loss: 1.2027 - val_accuracy: 1.0000\n",
      "Epoch 4/40\n",
      "2/2 [==============================] - 5s 4s/step - loss: 1.4656 - accuracy: 0.5581 - val_loss: 1.4866 - val_accuracy: 0.5000\n",
      "Epoch 5/40\n",
      "2/2 [==============================] - 5s 1s/step - loss: 1.1705 - accuracy: 0.6744 - val_loss: 1.5005 - val_accuracy: 0.5000\n",
      "Epoch 6/40\n",
      "2/2 [==============================] - 5s 1s/step - loss: 0.7684 - accuracy: 0.7674 - val_loss: 1.1525 - val_accuracy: 0.5000\n",
      "Epoch 7/40\n",
      "2/2 [==============================] - 5s 986ms/step - loss: 0.5993 - accuracy: 0.8837 - val_loss: 0.8341 - val_accuracy: 1.0000\n",
      "Epoch 8/40\n",
      "2/2 [==============================] - 5s 997ms/step - loss: 0.4876 - accuracy: 0.9070 - val_loss: 0.7306 - val_accuracy: 0.5000\n",
      "Epoch 9/40\n",
      "2/2 [==============================] - 5s 4s/step - loss: 0.4036 - accuracy: 0.8837 - val_loss: 0.4964 - val_accuracy: 1.0000\n",
      "Epoch 10/40\n",
      "2/2 [==============================] - 5s 4s/step - loss: 0.2325 - accuracy: 0.9535 - val_loss: 0.3373 - val_accuracy: 1.0000\n",
      "Epoch 11/40\n",
      "2/2 [==============================] - 5s 3s/step - loss: 0.2167 - accuracy: 0.9767 - val_loss: 0.3218 - val_accuracy: 1.0000\n",
      "Epoch 12/40\n",
      "2/2 [==============================] - 5s 1s/step - loss: 0.1845 - accuracy: 0.9535 - val_loss: 0.3271 - val_accuracy: 1.0000\n",
      "Epoch 13/40\n",
      "2/2 [==============================] - 5s 4s/step - loss: 0.1282 - accuracy: 0.9767 - val_loss: 0.3117 - val_accuracy: 1.0000\n",
      "Epoch 14/40\n",
      "2/2 [==============================] - 5s 1s/step - loss: 0.1135 - accuracy: 1.0000 - val_loss: 0.2411 - val_accuracy: 1.0000\n",
      "Epoch 15/40\n",
      "2/2 [==============================] - 5s 4s/step - loss: 0.1056 - accuracy: 0.9767 - val_loss: 0.1758 - val_accuracy: 1.0000\n",
      "Epoch 16/40\n",
      "2/2 [==============================] - 5s 1s/step - loss: 0.0895 - accuracy: 0.9767 - val_loss: 0.1141 - val_accuracy: 1.0000\n",
      "Epoch 17/40\n",
      "2/2 [==============================] - 5s 3s/step - loss: 0.0689 - accuracy: 1.0000 - val_loss: 0.0707 - val_accuracy: 1.0000\n",
      "Epoch 18/40\n",
      "2/2 [==============================] - 5s 1s/step - loss: 0.0560 - accuracy: 1.0000 - val_loss: 0.0489 - val_accuracy: 1.0000\n",
      "Epoch 19/40\n",
      "2/2 [==============================] - 5s 995ms/step - loss: 0.0537 - accuracy: 1.0000 - val_loss: 0.0403 - val_accuracy: 1.0000\n",
      "Epoch 20/40\n",
      "2/2 [==============================] - 5s 3s/step - loss: 0.0486 - accuracy: 1.0000 - val_loss: 0.0386 - val_accuracy: 1.0000\n",
      "Epoch 21/40\n",
      "2/2 [==============================] - 5s 3s/step - loss: 0.0635 - accuracy: 1.0000 - val_loss: 0.0412 - val_accuracy: 1.0000\n",
      "Epoch 22/40\n",
      "2/2 [==============================] - 5s 3s/step - loss: 0.0439 - accuracy: 1.0000 - val_loss: 0.0495 - val_accuracy: 1.0000\n",
      "Epoch 23/40\n",
      "2/2 [==============================] - 5s 4s/step - loss: 0.0500 - accuracy: 1.0000 - val_loss: 0.0615 - val_accuracy: 1.0000\n",
      "Epoch 24/40\n",
      "2/2 [==============================] - 5s 4s/step - loss: 0.0348 - accuracy: 1.0000 - val_loss: 0.0717 - val_accuracy: 1.0000\n",
      "Epoch 25/40\n",
      "2/2 [==============================] - 5s 3s/step - loss: 0.0301 - accuracy: 1.0000 - val_loss: 0.0743 - val_accuracy: 1.0000\n",
      "Epoch 26/40\n",
      "2/2 [==============================] - 5s 1s/step - loss: 0.0372 - accuracy: 1.0000 - val_loss: 0.0685 - val_accuracy: 1.0000\n",
      "Epoch 27/40\n",
      "2/2 [==============================] - 5s 3s/step - loss: 0.0184 - accuracy: 1.0000 - val_loss: 0.0652 - val_accuracy: 1.0000\n",
      "Epoch 28/40\n",
      "2/2 [==============================] - 5s 1s/step - loss: 0.0224 - accuracy: 1.0000 - val_loss: 0.0596 - val_accuracy: 1.0000\n",
      "Epoch 29/40\n",
      "2/2 [==============================] - 5s 4s/step - loss: 0.0236 - accuracy: 1.0000 - val_loss: 0.0494 - val_accuracy: 1.0000\n",
      "Epoch 30/40\n",
      "2/2 [==============================] - 5s 1s/step - loss: 0.0400 - accuracy: 1.0000 - val_loss: 0.0418 - val_accuracy: 1.0000\n",
      "Epoch 31/40\n",
      "2/2 [==============================] - 5s 4s/step - loss: 0.0168 - accuracy: 1.0000 - val_loss: 0.0369 - val_accuracy: 1.0000\n",
      "Epoch 32/40\n",
      "2/2 [==============================] - 5s 1s/step - loss: 0.0238 - accuracy: 1.0000 - val_loss: 0.0351 - val_accuracy: 1.0000\n",
      "Epoch 33/40\n",
      "2/2 [==============================] - 5s 4s/step - loss: 0.0183 - accuracy: 1.0000 - val_loss: 0.0362 - val_accuracy: 1.0000\n",
      "Epoch 34/40\n",
      "2/2 [==============================] - 5s 1s/step - loss: 0.0186 - accuracy: 1.0000 - val_loss: 0.0378 - val_accuracy: 1.0000\n",
      "Epoch 35/40\n",
      "2/2 [==============================] - 5s 4s/step - loss: 0.0147 - accuracy: 1.0000 - val_loss: 0.0396 - val_accuracy: 1.0000\n",
      "Epoch 36/40\n",
      "2/2 [==============================] - 5s 3s/step - loss: 0.0170 - accuracy: 1.0000 - val_loss: 0.0402 - val_accuracy: 1.0000\n",
      "Epoch 37/40\n",
      "2/2 [==============================] - 5s 978ms/step - loss: 0.0217 - accuracy: 1.0000 - val_loss: 0.0394 - val_accuracy: 1.0000\n",
      "Epoch 38/40\n",
      "2/2 [==============================] - 5s 4s/step - loss: 0.0160 - accuracy: 1.0000 - val_loss: 0.0381 - val_accuracy: 1.0000\n",
      "Epoch 39/40\n",
      "2/2 [==============================] - 5s 3s/step - loss: 0.0194 - accuracy: 1.0000 - val_loss: 0.0380 - val_accuracy: 1.0000\n",
      "Epoch 40/40\n",
      "2/2 [==============================] - 5s 1s/step - loss: 0.0220 - accuracy: 1.0000 - val_loss: 0.0389 - val_accuracy: 1.0000\n"
     ]
    }
   ],
   "source": [
    "epochs=40\n",
    "history = base_model.fit(\n",
    "  train_gen,\n",
    "  validation_data = val_gen,\n",
    "  epochs = epochs\n",
    ")"
   ]
  },
  {
   "cell_type": "code",
   "execution_count": 10,
   "metadata": {
    "colab": {
     "base_uri": "https://localhost:8080/",
     "height": 499
    },
    "id": "ei9jy736nVEZ",
    "outputId": "80633711-cfc6-4d06-b709-383f4e3e045c"
   },
   "outputs": [
    {
     "data": {
      "image/png": "[encoded data removed]",
      "text/plain": [
       "<Figure size 576x576 with 2 Axes>"
      ]
     },
     "metadata": {
      "needs_background": "light"
     },
     "output_type": "display_data"
    }
   ],
   "source": [
    "acc = history.history['accuracy']\n",
    "val_acc = history.history['val_accuracy']\n",
    "\n",
    "loss = history.history['loss']\n",
    "val_loss = history.history['val_loss']\n",
    "\n",
    "epochs_range = range(epochs)\n",
    "\n",
    "plt.figure(figsize=(8, 8))\n",
    "plt.subplot(1, 2, 1)\n",
    "plt.plot(epochs_range, acc, label='Training Accuracy')\n",
    "plt.plot(epochs_range, val_acc, label='Validation Accuracy')\n",
    "plt.legend(loc='lower right')\n",
    "plt.title('Training and Validation Accuracy')\n",
    "\n",
    "plt.subplot(1, 2, 2)\n",
    "plt.plot(epochs_range, loss, label='Training Loss')\n",
    "plt.plot(epochs_range, val_loss, label='Validation Loss')\n",
    "plt.legend(loc='upper right')\n",
    "plt.title('Training and Validation Loss')\n",
    "plt.show()"
   ]
  },
  {
   "cell_type": "code",
   "execution_count": 11,
   "metadata": {
    "colab": {
     "base_uri": "https://localhost:8080/"
    },
    "id": "zwD2vv_onsut",
    "outputId": "eb2bbc69-aa5e-464d-c4d5-7aca9a83be55"
   },
   "outputs": [],
   "source": [
    "import pickle\n",
    "import joblib "
   ]
  },
  {
   "cell_type": "code",
   "execution_count": 12,
   "metadata": {
    "id": "4eGgLZFEnt03"
   },
   "outputs": [],
   "source": [
    "file_dir = 'C:/Users/Akunna Anyamkpa/Downloads/Paga/modela.h5'\n",
    "base_model.save(file_dir)"
   ]
  }
 ],
 "metadata": {
  "colab": {
   "authorship_tag": "ABX9TyMqCuPBfJCXed26gH8/x/RB",
   "include_colab_link": true,
   "name": "Untitled13.ipynb",
   "provenance": []
  },
  "kernelspec": {
   "display_name": "Python 3",
   "language": "python",
   "name": "python3"
  },
  "language_info": {
   "codemirror_mode": {
    "name": "ipython",
    "version": 3
   },
   "file_extension": ".py",
   "mimetype": "text/x-python",
   "name": "python",
   "nbconvert_exporter": "python",
   "pygments_lexer": "ipython3",
   "version": "3.8.8"
  }
 },
 "nbformat": 4,
 "nbformat_minor": 1
}
